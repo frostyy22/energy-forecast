{
 "cells": [
  {
   "cell_type": "code",
   "execution_count": 1,
   "id": "7c1655a9",
   "metadata": {},
   "outputs": [
    {
     "name": "stdout",
     "output_type": "stream",
     "text": [
      "Python executable: /Users/yao/Downloads/School/Work/Portfolio_projects/Time-series-forecast/energy-forecast/.venv/bin/python\n",
      "load_data function: <function load_data at 0x7fad3c85a790>\n",
      "Data loaded successfully!\n",
      "Columns: ['PJME_MW']\n"
     ]
    }
   ],
   "source": [
    "# Test 1: Verify environment\n",
    "import sys\n",
    "print(\"Python executable:\", sys.executable)\n",
    "\n",
    "# Test 2: Verify imports\n",
    "from utils.data_utils import *\n",
    "\n",
    "print(\"load_data function:\", load_data)\n",
    "\n",
    "# Test 3: Load data\n",
    "try:\n",
    "    df = load_data(\"data/PJME_hourly.csv\")\n",
    "    print(\"Data loaded successfully!\")\n",
    "    print(\"Columns:\", df.columns.tolist())\n",
    "except Exception as e:\n",
    "    print(\"Data load failed:\", e)\n",
    "    import os\n",
    "    from pathlib import Path\n",
    "    print(\"Attempted path:\", Path(os.getcwd()) / \"data/PJME_hourly.csv\")"
   ]
  },
  {
   "cell_type": "code",
   "execution_count": null,
   "id": "db07aabb",
   "metadata": {},
   "outputs": [],
   "source": []
  },
  {
   "cell_type": "code",
   "execution_count": null,
   "id": "32e2576a",
   "metadata": {},
   "outputs": [],
   "source": []
  }
 ],
 "metadata": {
  "kernelspec": {
   "display_name": ".venv",
   "language": "python",
   "name": "python3"
  },
  "language_info": {
   "codemirror_mode": {
    "name": "ipython",
    "version": 3
   },
   "file_extension": ".py",
   "mimetype": "text/x-python",
   "name": "python",
   "nbconvert_exporter": "python",
   "pygments_lexer": "ipython3",
   "version": "3.9.18"
  }
 },
 "nbformat": 4,
 "nbformat_minor": 5
}
