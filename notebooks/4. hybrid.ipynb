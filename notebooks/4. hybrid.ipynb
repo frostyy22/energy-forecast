{
 "cells": [
  {
   "cell_type": "markdown",
   "id": "972bf160",
   "metadata": {},
   "source": []
  },
  {
   "cell_type": "code",
   "execution_count": null,
   "id": "9d657dab",
   "metadata": {},
   "outputs": [],
   "source": [
    "# Load cleaned and processed data from prophet II.ipynb\n",
    "\n",
    "import os\n",
    "import json\n",
    "import pandas as pd\n",
    "\n",
    "from utils.data_utils import *\n",
    "\n",
    "output_dir = 'output'\n",
    "\n",
    "df = load_data('data/PJME_hourly.csv')\n",
    "\n",
    "df = create_features(df.dropna())\n",
    "\n",
    "train_set, test_set = split_train_test(df, '2015-01-01') #cut-off date\n",
    "\n",
    "with open(os.path.join(output_dir, 'best_params.json'), 'r') as f:\n",
    "    best_params = json.load(f)\n",
    "\n",
    "## Save cleaned and processed data from prophet II.ipynb\n",
    "##------------------------\n",
    "# cleaning_params = {\n",
    "#     'window_size': best_params['window_size'],\n",
    "#     'iqr_multiplier': best_params['iqr_multiplier'],\n",
    "#     'hurricane_window': best_params['hurricane_window']\n",
    "# }\n",
    "\n",
    "# cleaned_train_set, hurricane_dates = clean_train_data(cleaning_params, train_set)\n",
    "\n",
    "# cleaned_train_set.to_parquet(os.path.join(output_dir, 'cleaned_train_set.parquet'))\n",
    "# test_set.to_parquet(os.path.join(output_dir, 'test_set.parquet'))\n",
    "# hurricane_dates.to_parquet(os.path.join(output_dir, 'hurricane_dates.parquet'))\n",
    "##------------------------\n",
    "\n",
    "cleaned_train_set = pd.read_parquet(os.path.join(output_dir, 'cleaned_train_set.parquet'))\n",
    "test_set = pd.read_parquet(os.path.join(output_dir, 'test_set.parquet'))\n",
    "hurricane_dates = pd.read_parquet(os.path.join(output_dir, 'hurricane_dates.parquet'))\n"
   ]
  },
  {
   "cell_type": "code",
   "execution_count": null,
   "id": "556eeda1",
   "metadata": {},
   "outputs": [],
   "source": []
  }
 ],
 "metadata": {
  "kernelspec": {
   "display_name": ".venv",
   "language": "python",
   "name": "python3"
  },
  "language_info": {
   "codemirror_mode": {
    "name": "ipython",
    "version": 3
   },
   "file_extension": ".py",
   "mimetype": "text/x-python",
   "name": "python",
   "nbconvert_exporter": "python",
   "pygments_lexer": "ipython3",
   "version": "3.9.18"
  }
 },
 "nbformat": 4,
 "nbformat_minor": 5
}
