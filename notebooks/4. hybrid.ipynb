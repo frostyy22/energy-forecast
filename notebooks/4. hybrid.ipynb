{
 "cells": [
  {
   "cell_type": "markdown",
   "id": "6c166df4",
   "metadata": {},
   "source": []
  },
  {
   "cell_type": "markdown",
   "id": "972bf160",
   "metadata": {},
   "source": []
  },
  {
   "cell_type": "code",
   "execution_count": null,
   "id": "04a25c1b",
   "metadata": {},
   "outputs": [],
   "source": [
    "#Best params from prophet II.ipynb\n",
    "\n",
    "import os\n",
    "import json\n",
    "\n",
    "best_params = {\n",
    "    'window_size': 186,\n",
    "    'iqr_multiplier': 2.8736874205941256,\n",
    "    'hurricane_window': 4,\n",
    "    'changepoint_prior_scale': 0.0783519917195005,\n",
    "    'seasonality_prior_scale': 2.99223202049866,\n",
    "    'holidays_prior_scale': 10.495427649405375,\n",
    "    'seasonality_mode': 'additive',\n",
    "    'yearly_seasonality': 7\n",
    "}\n",
    "\n",
    "output_dir = 'output'\n",
    "\n",
    "with open(os.path.join(output_dir, 'best_params.json'), 'w') as f:\n",
    "    json.dump(best_params, f)"
   ]
  },
  {
   "cell_type": "code",
   "execution_count": null,
   "id": "9d657dab",
   "metadata": {},
   "outputs": [],
   "source": [
    "# Cleaned and processed data from prophet II.ipynb\n",
    "\n"
   ]
  }
 ],
 "metadata": {
  "kernelspec": {
   "display_name": ".venv",
   "language": "python",
   "name": "python3"
  },
  "language_info": {
   "codemirror_mode": {
    "name": "ipython",
    "version": 3
   },
   "file_extension": ".py",
   "mimetype": "text/x-python",
   "name": "python",
   "nbconvert_exporter": "python",
   "pygments_lexer": "ipython3",
   "version": "3.9.18"
  }
 },
 "nbformat": 4,
 "nbformat_minor": 5
}
